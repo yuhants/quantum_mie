{
 "cells": [
  {
   "cell_type": "code",
   "execution_count": 97,
   "id": "70f6bde3",
   "metadata": {},
   "outputs": [],
   "source": [
    "%matplotlib inline\n",
    "import numpy as np\n",
    "from scipy.special import sph_harm, spherical_jn, spherical_yn\n",
    "\n",
    "import matplotlib.pyplot as plt\n",
    "import mpl_toolkits.mplot3d.axes3d as axes3d\n",
    "import matplotlib.colors as colors"
   ]
  },
  {
   "cell_type": "code",
   "execution_count": 82,
   "id": "b212c634",
   "metadata": {},
   "outputs": [],
   "source": [
    "hbar     = 1.054e-34  # J*m\n",
    "c        = 299792458  # m/s\n",
    "epsilon0 = 8.854e-12  # Vacuum permittivity (F/m)\n",
    "\n",
    "lambda0  = 1064e-9\n",
    "omega0   = 2 * np.pi * c / lambda0\n",
    "k0       = omega0 / c  # Wave number\n",
    "E0       = 10          # Laser E-field\n",
    "na       = 0.77\n",
    "f        = 1e-3\n",
    "w        = 50e-6\n",
    "\n",
    "epsilon  = 2.07  # Relative permittivity\n",
    "R        = 5e-6  # Sphere radius (m) \n",
    "k        = np.sqrt(epsilon) * omega0 / c\n",
    "q        = k * R\n",
    "q_prime  = np.sqrt(epsilon) * k * R"
   ]
  },
  {
   "cell_type": "markdown",
   "id": "d4fa84b3",
   "metadata": {},
   "source": [
    "## Beautiful math functions"
   ]
  },
  {
   "cell_type": "markdown",
   "id": "7886f5f1",
   "metadata": {},
   "source": [
    "Note that `p` runs over TE and TM, while `g` runs over 1 and 2."
   ]
  },
  {
   "cell_type": "code",
   "execution_count": 83,
   "id": "84e0c046",
   "metadata": {},
   "outputs": [],
   "source": [
    "# TODO\n",
    "# Might need to transpose scipy output\n",
    "def x_lm(l, m, theta, phi):\n",
    "    \"\"\"Vector spherical harmonics as defined in Hill (1954).\"\"\"\n",
    "    # m, l are integers and abs(m) <= l\n",
    "    if ( int(m) != m ) or ( int(l) != l ):\n",
    "        return np.nan, np.nan\n",
    "    elif np.abs(m) > l:\n",
    "        return 0, 0\n",
    "    \n",
    "    # Be careful - scipy defines polar and azimuthal\n",
    "    # angles in an opposite convention\n",
    "    # Also (-1)^m typically in Y_lm is in the associated Legendre function\n",
    "    theta_comp = -1 * m * sph_harm(m, l, phi, theta) / ( np.sqrt(l * (l+1)) * np.sin(theta) )\n",
    "    \n",
    "    # Derivative of Y_ml w.r.t theta\n",
    "    # https://functions.wolfram.com/Polynomials/SphericalHarmonicY/20/ShowAll.html\n",
    "    if (m == l):\n",
    "        dydtheta = m * 1/(np.tan(theta)) * sph_harm(m, l, phi, theta)\n",
    "    else:\n",
    "        dydtheta = m * 1/(np.tan(theta)) * sph_harm(m, l, phi, theta) + \\\n",
    "                   np.sqrt((l-m) * (l+m+1)) * np.exp(-1j*phi) * sph_harm(m+1, l, theta, phi)\n",
    "    phi_comp = ( -1j / np.sqrt(l*(l+1)) ) * dydtheta\n",
    "    \n",
    "    # X_lm has no r-component\n",
    "    return theta_comp, phi_comp"
   ]
  },
  {
   "cell_type": "code",
   "execution_count": 84,
   "id": "7c203da9",
   "metadata": {},
   "outputs": [],
   "source": [
    "# Unit vectors in spherical coords\n",
    "e_theta = np.asarray([1, 0])\n",
    "e_phi   = np.asarray([0, 1])\n",
    "\n",
    "# Polarization vectors\n",
    "def e_g(g):\n",
    "    if g == 1:\n",
    "        return 1j * e_phi\n",
    "    elif g == 2:\n",
    "        return e_theta\n",
    "\n",
    "# Vectors used for `C_p_lm` below\n",
    "def u_p(p):\n",
    "    if p == 'TE':\n",
    "        return e_theta + 1j * e_phi\n",
    "    elif p == 'TM':\n",
    "        return e_phi - 1j * e_theta\n",
    "    else:\n",
    "        return np.nan"
   ]
  },
  {
   "cell_type": "code",
   "execution_count": 85,
   "id": "8f96482e",
   "metadata": {},
   "outputs": [],
   "source": [
    "def cbar_p_lmg(p, l, m, g, theta, phi):\n",
    "    \"\"\"Eq. (A2), (A3)\"\"\"\n",
    "    if (g != 1) and (g != 2):\n",
    "        return np.nan\n",
    "    if ( int(m) != m ) or ( int(l) != l ):\n",
    "        return np.nan\n",
    "    elif np.abs(m) > l:\n",
    "        return 0\n",
    "    \n",
    "    x_lm_theta_comp, x_lm_phi_comp = x_lm(l, m, theta, phi)\n",
    "    if p == 'TE':\n",
    "        return (1j)**l * (np.conjugate(x_lm_theta_comp) * e_g(g)[0] + np.conjugate(x_lm_phi_comp) * e_g(g)[1] )\n",
    "    elif p == 'TM':\n",
    "        # Using e_r x e_1 = -i e_2, e_r x e_2 = -i e_1\n",
    "        g_prime = 2 if g == 1 else 1\n",
    "        e_g_new = -1j * e_g(g_prime)\n",
    "        return (1j)**l * (np.conjugate(x_lm_theta_comp) * e_g_new[0] + np.conjugate(x_lm_phi_comp) * e_g_new[1] )\n",
    "    else:\n",
    "        return np.nan"
   ]
  },
  {
   "cell_type": "code",
   "execution_count": 86,
   "id": "cdb256a5",
   "metadata": {},
   "outputs": [],
   "source": [
    "def z_lm(l, m, na, f, w):\n",
    "    \"\"\"Z_lm function related to Gaussian beam defined in Eq. (B10)\n",
    "    \n",
    "    Params\n",
    "      l, m: integer indices\n",
    "      na  : trapping NA \n",
    "      f   : focal length\n",
    "      w   : waist\n",
    "    \"\"\"\n",
    "    if ( int(m) != m ) or ( int(l) != l ):\n",
    "        return np.asarray([np.nan, np.nan])\n",
    "    elif np.abs(m) > l:\n",
    "        return np.asarray([0, 0])\n",
    "    \n",
    "    theta_max = np.arcsin(na)\n",
    "    \n",
    "    tt = np.linspace(1e-8, theta_max, 200)\n",
    "    int_factor = np.sin(tt) * np.sqrt(np.abs(np.cos(tt))) * np.exp(-1*f*f*np.sin(tt)*np.sin(tt) / (w*w))\n",
    "    x_star_theta, x_star_phi = np.conjugate( x_lm(l, m, tt, 0) )\n",
    "    \n",
    "    # Integrate over theta\n",
    "    theta_comp = np.trapz(x_star_theta*int_factor, tt)\n",
    "    phi_comp   = np.trapz(x_star_phi  *int_factor, tt)\n",
    "    \n",
    "    return np.asarray([theta_comp, phi_comp])"
   ]
  },
  {
   "cell_type": "code",
   "execution_count": 87,
   "id": "e323c2f9",
   "metadata": {},
   "outputs": [],
   "source": [
    "def C_p_lm(p, l, m, na, f, w):\n",
    "    \"\"\"C_p_lm function defined in Eq. (B9)\"\"\"\n",
    "    if ( int(m) != m ) or ( int(l) != l ):\n",
    "        return np.nan\n",
    "    elif np.abs(m) > l:\n",
    "        return 0\n",
    "    elif ( l < 1 ):\n",
    "        return 0\n",
    "    \n",
    "    prefactor = (1j)**l * k0 * f * E0 * np.sqrt(4 * np.pi**3 * epsilon0 / (hbar * omega0))\n",
    "    \n",
    "    if (m == 1):\n",
    "        return prefactor * np.inner(z_lm(l, m, na, f, w), u_p(p))\n",
    "    elif (m == -1):\n",
    "        return prefactor * np.inner(z_lm(l, m, na, f, w), np.conjugate(u_p(p)))\n",
    "    else:\n",
    "        return 0"
   ]
  },
  {
   "cell_type": "code",
   "execution_count": null,
   "id": "6d797954",
   "metadata": {},
   "outputs": [],
   "source": []
  },
  {
   "cell_type": "code",
   "execution_count": 88,
   "id": "24d0f74e",
   "metadata": {},
   "outputs": [],
   "source": [
    "# Note that theta and phi already integrated over in `C_p_lm`\n",
    "# polarization g has also been summed over\n",
    "def Ax_p_lm(p, l, m, na, f, w):\n",
    "    \"\"\"Eq. (A20), replace `cbar_p_lm` with `C_p_lm`\"\"\"\n",
    "    pbar   = 'TM' if (p == 'TE') else 'TE'\n",
    "    \n",
    "    first  = np.sqrt(l * (l+2) * (l-m+2) * (l-m+1) / ((2*l+3) * (2*l+1) * (2*l+2)**2)) * \\\n",
    "             C_p_lm(p, l+1, m-1, na, f, w) * S_p_l(p, l)\n",
    "    second = -1 * np.sqrt((l-1) * (l+1) * (l-m) * (l-m-1) / ((2*l+1) * (2*l-1) * (2*l)**2)) * \\\n",
    "             C_p_lm(p, l-1, m+1, na, f, w) * np.conjugate(S_p_l(p, l-1))\n",
    "    third  = -1 * np.sqrt(l * (l+2) * (l+m+2) * (l+m+1) / ((2*l+3) * (2*l+1) * (2*l+2)**2)) * \\\n",
    "             C_p_lm(p, l+1, m+1, na, f, w) * S_p_l(p, l)\n",
    "    fourth = np.sqrt((l-1) * (l+1) * (l+m) * (l+m-1) / ((2*l+1) * (2*l-1) * (2*l)**2)) * \\\n",
    "             C_p_lm(p, l-1, m-1, na, f, w) * np.conjugate(S_p_l(p, l-1))\n",
    "    fifth  = -1 * np.sqrt((l+m) * (l-m+1)) / (2 * l * (l+1)) * C_p_lm(pbar, l, m-1, na, f, w) * R_p_l(pbar, l)\n",
    "    sixth  = -1 * np.sqrt((l+m+1) * (l-m)) / (2 * l * (l+1)) * C_p_lm(pbar, l, m+1, na, f, w) * R_p_l(pbar, l)\n",
    "\n",
    "    return first + second + third + fourth + fifth + sixth\n",
    "\n",
    "def Ay_p_lm(p, l, m, na, f, w):\n",
    "    \"\"\"Eq. (A21), replace `cbar_p_lm` with `C_p_lm`\"\"\"\n",
    "    pbar   = 'TM' if (p == 'TE') else 'TE'\n",
    "    \n",
    "    first  = np.sqrt(l * (l+2) * (l-m+2) * (l-m+1) / ((2*l+3) * (2*l+1) * (2*l+2)**2)) * \\\n",
    "             C_p_lm(p, l+1, m-1, na, f, w) * S_p_l(p, l)\n",
    "    second = np.sqrt((l-1) * (l+1) * (l-m) * (l-m-1) / ((2*l+1) * (2*l-1) * (2*l)**2)) * \\\n",
    "             C_p_lm(p, l-1, m+1, na, f, w) * np.conjugate(S_p_l(p, l-1))\n",
    "    third  = np.sqrt(l * (l+2) * (l+m+2) * (l+m+1) / ((2*l+3) * (2*l+1) * (2*l+2)**2)) * \\\n",
    "             C_p_lm(p, l+1, m+1, na, f, w) * S_p_l(p, l)\n",
    "    fourth = np.sqrt((l-1) * (l+1) * (l+m) * (l+m-1) / ((2*l+1) * (2*l-1) * (2*l)**2)) * \\\n",
    "             C_p_lm(p, l-1, m-1, na, f, w) * np.conjugate(S_p_l(p, l-1))\n",
    "    fifth  = -1 * np.sqrt((l+m) * (l-m+1)) / (2 * l * (l+1)) * C_p_lm(pbar, l, m-1, na, f, w) * R_p_l(pbar, l)\n",
    "    sixth  = np.sqrt((l+m+1) * (l-m)) / (2 * l * (l+1)) * C_p_lm(pbar, l, m+1, na, f, w) * R_p_l(pbar, l)\n",
    "\n",
    "    return -1j * (first + second + third + fourth + fifth + sixth)\n",
    "\n",
    "def Az_p_lm(p, l, m, na, f, w):\n",
    "    \"\"\"Eq. (A22), replace `cbar_p_lm` with `C_p_lm`\"\"\"\n",
    "    pbar   = 'TM' if (p == 'TE') else 'TE'\n",
    "\n",
    "    first  = np.sqrt(l * (l+2) * (l+1)**2 - m**2 / ((2*l+3) * (2*l+1) * (l+1)**2)) * \\\n",
    "             C_p_lm(p, l+1, m, na, f, w) * S_p_l(p, l)\n",
    "    second = -1 * np.sqrt((l**2-1) * (l**2 - m**2) / ((4*(l**2) - 1) * l**2 )) * \\\n",
    "             C_p_lm(p, l-1, m, na, f, w) * np.conjugate(S_p_l(p, l-1))\n",
    "    third  = -1 * m / (l * (l+1)) * C_p_lm(pbar, l, m, na, f, w) * R_p_l(pbar, l)\n",
    "    \n",
    "    return first + second + third"
   ]
  },
  {
   "cell_type": "code",
   "execution_count": 89,
   "id": "b48ad9fd",
   "metadata": {},
   "outputs": [],
   "source": [
    "def R_p_l(p, l):\n",
    "    ret = 1 - np.exp( -2j * (psi_p_l(l, 'TM') - psi_p_l(l, 'TE')) )\n",
    "    if p == 'TE':\n",
    "        return np.conjugate(-1 * ret)\n",
    "    elif p == 'TM':\n",
    "        return ret\n",
    "    else:\n",
    "        return np.nan\n",
    "\n",
    "def S_p_l(p, l):\n",
    "    # Take care of recursions that involve l-1\n",
    "    if (l < 1):\n",
    "        return 0\n",
    "    else:\n",
    "        return 1 - np.exp( -2j * (psi_p_l(l+1, p) - psi_p_l(l, p)) )"
   ]
  },
  {
   "cell_type": "code",
   "execution_count": 90,
   "id": "df640c2a",
   "metadata": {},
   "outputs": [],
   "source": [
    "# Follow https://arxiv.org/pdf/2106.07975.pdf\n",
    "# Eq. (50)-(54), (64), (65)\n",
    "# These could be expressed in Mie's a, b coefficients\n",
    "# It would be nice to check that they do agree\n",
    "def psi_p_l(p, l):\n",
    "    return np.arcsin( beta_p_l(l, p) / np.sqrt(alpha_p_l(l, p)**2 + beta_p_l(l, p)**2 ))\n",
    "\n",
    "def alpha_p_l(p, l):\n",
    "    if ( int(l) != l ):\n",
    "        return np.nan\n",
    "    \n",
    "    if p == 'TE':\n",
    "        first = q * q_prime * spherical_jn(l+1, q_prime) * spherical_yn(l, q)\n",
    "        second = -1 * q**2 * spherical_jn(l, q_prime) * spherical_yn(l+1, q) \n",
    "        return (first + second)\n",
    "    \n",
    "    elif p == 'TM':\n",
    "        first  = q**2 * spherical_jn(l+1, q_prime) * spherical_yn(l, q)\n",
    "        second = -1 * q * q_prime * spherical_jn(l, q_prime) * spherical_yn(l+1, q)\n",
    "        third  = q_prime * (1 - 1/epsilon) * (l+1) * spherical_jn(l, q_prime) * spherical_yn(l, q)\n",
    "        return (first + second + third)\n",
    "    \n",
    "    else:\n",
    "        return np.nan\n",
    "\n",
    "def beta_p_l(p, l):\n",
    "    if ( int(l) != l ):\n",
    "        return np.nan\n",
    "    \n",
    "    if p == 'TE':\n",
    "        first = q * q * spherical_jn(l, q_prime) * spherical_jn(l+1, q)\n",
    "        second = -1 * q * q_prime * spherical_jn(l+1, q_prime) * spherical_jn(l, q) \n",
    "        return (first + second)\n",
    "    \n",
    "    elif p == 'TM':\n",
    "        first  = q * q_prime * spherical_jn(l, q_prime) * spherical_jn(l+1, q)\n",
    "        second = -1 * q * q * spherical_jn(l+1, q_prime) * spherical_jn(l, q)\n",
    "        third  = -1 * q_prime * (1 - 1/epsilon) * (l+1) * spherical_jn(l, q_prime) * spherical_jn(l, q)\n",
    "        return (first + second + third)\n",
    "    \n",
    "    else:\n",
    "        return np.nan    "
   ]
  },
  {
   "cell_type": "markdown",
   "id": "ec338a52",
   "metadata": {},
   "source": [
    "## Information radiation density"
   ]
  },
  {
   "cell_type": "code",
   "execution_count": 102,
   "id": "31266168",
   "metadata": {},
   "outputs": [],
   "source": [
    "# TODO\n",
    "# Be careful when having vector inputs\n",
    "def info_density(axis, theta, phi, na, f, w, lmax=50):\n",
    "    if axis == 'x':\n",
    "        info_func = Ax_p_lm\n",
    "    elif axis == 'y':\n",
    "        info_func = Ay_p_lm\n",
    "    elif axis == 'z':\n",
    "        info_func = Az_p_lm\n",
    "\n",
    "    \n",
    "    sum_glmp = np.zeros_like(theta)\n",
    "    sum_lmp_denominator = 0\n",
    "    \n",
    "    for g in [1, 2]:\n",
    "        # Do something\n",
    "        sum_lmp_nominator = np.zeros(theta.size, np.cdouble)\n",
    "\n",
    "        for l in range(lmax + 1):\n",
    "            for m in np.arange(-1 * l, l, step=1, dtype=np.intc):\n",
    "                for p in ['TE', 'TM']:\n",
    "                    cbar = np.nan_to_num(cbar_p_lmg(p, l, m, g, theta, phi), nan=0)\n",
    "                    A_mu = np.nan_to_num(info_func(p, l, m, na, f, w), nan=0)\n",
    "                    \n",
    "                    sum_lmp_nominator = sum_lmp_nominator + ( np.conjugate(cbar) * A_mu )\n",
    "                    \n",
    "                    # To avoid overcounting because we don't need to sum\n",
    "                    # over `g` for the denominator\n",
    "                    if g == 1:\n",
    "                        sum_lmp_denominator += ( np.abs(A_mu)**2 )\n",
    "                        \n",
    "        sum_glmp += np.abs(sum_lmp_nominator)**2 \n",
    "    \n",
    "    return sum_glmp / sum_lmp_denominator"
   ]
  },
  {
   "cell_type": "code",
   "execution_count": 103,
   "id": "1ad939ec",
   "metadata": {
    "scrolled": false
   },
   "outputs": [
    {
     "name": "stderr",
     "output_type": "stream",
     "text": [
      "/var/folders/mb/1ggr_wms5jz0l7fkkc3b9xg80000gn/T/ipykernel_13441/2380573838.py:12: RuntimeWarning: invalid value encountered in divide\n",
      "  theta_comp = -1 * m * sph_harm(m, l, phi, theta) / ( np.sqrt(l * (l+1)) * np.sin(theta) )\n",
      "/var/folders/mb/1ggr_wms5jz0l7fkkc3b9xg80000gn/T/ipykernel_13441/2380573838.py:19: RuntimeWarning: divide by zero encountered in divide\n",
      "  dydtheta = m * 1/(np.tan(theta)) * sph_harm(m, l, phi, theta) + \\\n",
      "/var/folders/mb/1ggr_wms5jz0l7fkkc3b9xg80000gn/T/ipykernel_13441/2380573838.py:19: RuntimeWarning: invalid value encountered in multiply\n",
      "  dydtheta = m * 1/(np.tan(theta)) * sph_harm(m, l, phi, theta) + \\\n"
     ]
    },
    {
     "ename": "ValueError",
     "evalue": "operands could not be broadcast together with shapes (40000,) (200,200) ",
     "output_type": "error",
     "traceback": [
      "\u001b[0;31m---------------------------------------------------------------------------\u001b[0m",
      "\u001b[0;31mValueError\u001b[0m                                Traceback (most recent call last)",
      "Cell \u001b[0;32mIn[103], line 5\u001b[0m\n\u001b[1;32m      2\u001b[0m phi \u001b[38;5;241m=\u001b[39m np\u001b[38;5;241m.\u001b[39mlinspace(\u001b[38;5;241m0\u001b[39m, \u001b[38;5;241m2\u001b[39m\u001b[38;5;241m*\u001b[39mnp\u001b[38;5;241m.\u001b[39mpi, \u001b[38;5;241m200\u001b[39m)\n\u001b[1;32m      3\u001b[0m tt, pp \u001b[38;5;241m=\u001b[39m np\u001b[38;5;241m.\u001b[39mmeshgrid(theta, phi)\n\u001b[0;32m----> 5\u001b[0m info_x \u001b[38;5;241m=\u001b[39m info_density(\u001b[38;5;124m'\u001b[39m\u001b[38;5;124mx\u001b[39m\u001b[38;5;124m'\u001b[39m, tt, pp, na, f, w, \u001b[38;5;241m10\u001b[39m)\n",
      "Cell \u001b[0;32mIn[102], line 24\u001b[0m, in \u001b[0;36minfo_density\u001b[0;34m(axis, theta, phi, na, f, w, lmax)\u001b[0m\n\u001b[1;32m     21\u001b[0m A_mu \u001b[38;5;241m=\u001b[39m np\u001b[38;5;241m.\u001b[39mnan_to_num(info_func(p, l, m, na, f, w), nan\u001b[38;5;241m=\u001b[39m\u001b[38;5;241m0\u001b[39m)\n\u001b[1;32m     23\u001b[0m \u001b[38;5;66;03m# print(cbar, A_mu)\u001b[39;00m\n\u001b[0;32m---> 24\u001b[0m sum_lmp_nominator \u001b[38;5;241m=\u001b[39m sum_lmp_nominator \u001b[38;5;241m+\u001b[39m ( np\u001b[38;5;241m.\u001b[39mconjugate(cbar) \u001b[38;5;241m*\u001b[39m A_mu )\n\u001b[1;32m     26\u001b[0m \u001b[38;5;66;03m# To avoid overcounting because we don't need to sum\u001b[39;00m\n\u001b[1;32m     27\u001b[0m \u001b[38;5;66;03m# over `g` for the denominator\u001b[39;00m\n\u001b[1;32m     28\u001b[0m \u001b[38;5;28;01mif\u001b[39;00m g \u001b[38;5;241m==\u001b[39m \u001b[38;5;241m1\u001b[39m:\n",
      "\u001b[0;31mValueError\u001b[0m: operands could not be broadcast together with shapes (40000,) (200,200) "
     ]
    }
   ],
   "source": [
    "theta = np.linspace(0, np.pi, 200)\n",
    "phi = np.linspace(0, 2*np.pi, 200)\n",
    "tt, pp = np.meshgrid(theta, phi)\n",
    "\n",
    "info_x = info_density('x', tt, pp, na, f, w, 10)"
   ]
  },
  {
   "cell_type": "code",
   "execution_count": 106,
   "id": "8b4e22ed",
   "metadata": {
    "scrolled": true
   },
   "outputs": [
    {
     "name": "stderr",
     "output_type": "stream",
     "text": [
      "/var/folders/mb/1ggr_wms5jz0l7fkkc3b9xg80000gn/T/ipykernel_13441/2380573838.py:12: RuntimeWarning: invalid value encountered in divide\n",
      "  theta_comp = -1 * m * sph_harm(m, l, phi, theta) / ( np.sqrt(l * (l+1)) * np.sin(theta) )\n",
      "/var/folders/mb/1ggr_wms5jz0l7fkkc3b9xg80000gn/T/ipykernel_13441/2380573838.py:19: RuntimeWarning: divide by zero encountered in divide\n",
      "  dydtheta = m * 1/(np.tan(theta)) * sph_harm(m, l, phi, theta) + \\\n",
      "/var/folders/mb/1ggr_wms5jz0l7fkkc3b9xg80000gn/T/ipykernel_13441/2380573838.py:19: RuntimeWarning: invalid value encountered in multiply\n",
      "  dydtheta = m * 1/(np.tan(theta)) * sph_harm(m, l, phi, theta) + \\\n"
     ]
    },
    {
     "data": {
      "text/plain": [
       "(200, 200)"
      ]
     },
     "execution_count": 106,
     "metadata": {},
     "output_type": "execute_result"
    }
   ],
   "source": [
    "cbar_p_lmg(p='TE', l=10, m=1, g=1, theta=tt, phi=pp).shape"
   ]
  },
  {
   "cell_type": "code",
   "execution_count": 111,
   "id": "9d86ad2b",
   "metadata": {},
   "outputs": [
    {
     "data": {
      "text/plain": [
       "(200, 200)"
      ]
     },
     "execution_count": 111,
     "metadata": {},
     "output_type": "execute_result"
    }
   ],
   "source": [
    "sph_harm(1, 10, pp, tt).shape"
   ]
  },
  {
   "cell_type": "code",
   "execution_count": null,
   "id": "2b5f5c34",
   "metadata": {},
   "outputs": [],
   "source": []
  },
  {
   "cell_type": "code",
   "execution_count": null,
   "id": "c405bdb1",
   "metadata": {},
   "outputs": [],
   "source": []
  },
  {
   "cell_type": "code",
   "execution_count": 99,
   "id": "51035ac2",
   "metadata": {},
   "outputs": [
    {
     "ename": "ValueError",
     "evalue": "Argument Z must be 2-dimensional.",
     "output_type": "error",
     "traceback": [
      "\u001b[0;31m---------------------------------------------------------------------------\u001b[0m",
      "\u001b[0;31mValueError\u001b[0m                                Traceback (most recent call last)",
      "Cell \u001b[0;32mIn[99], line 14\u001b[0m\n\u001b[1;32m     11\u001b[0m zz \u001b[38;5;241m=\u001b[39m den \u001b[38;5;241m*\u001b[39m np\u001b[38;5;241m.\u001b[39mcos(tt)\n\u001b[1;32m     13\u001b[0m ax \u001b[38;5;241m=\u001b[39m fig\u001b[38;5;241m.\u001b[39madd_subplot(\u001b[38;5;241m1\u001b[39m, \u001b[38;5;241m1\u001b[39m, i\u001b[38;5;241m+\u001b[39m\u001b[38;5;241m1\u001b[39m, projection\u001b[38;5;241m=\u001b[39m\u001b[38;5;124m'\u001b[39m\u001b[38;5;124m3d\u001b[39m\u001b[38;5;124m'\u001b[39m)\n\u001b[0;32m---> 14\u001b[0m plot \u001b[38;5;241m=\u001b[39m ax\u001b[38;5;241m.\u001b[39mplot_surface(\n\u001b[1;32m     15\u001b[0m     xx, yy, zz, facecolors\u001b[38;5;241m=\u001b[39mcmap(norm(den)),\n\u001b[1;32m     16\u001b[0m     linewidth\u001b[38;5;241m=\u001b[39m\u001b[38;5;241m0\u001b[39m, antialiased\u001b[38;5;241m=\u001b[39m\u001b[38;5;28;01mFalse\u001b[39;00m, alpha\u001b[38;5;241m=\u001b[39m\u001b[38;5;241m0.8\u001b[39m)\n\u001b[1;32m     18\u001b[0m ax\u001b[38;5;241m.\u001b[39mget_xaxis()\u001b[38;5;241m.\u001b[39mset_ticklabels([])\n\u001b[1;32m     19\u001b[0m ax\u001b[38;5;241m.\u001b[39mget_yaxis()\u001b[38;5;241m.\u001b[39mset_ticklabels([])\n",
      "File \u001b[0;32m~/opt/anaconda3/envs/microsphere/lib/python3.11/site-packages/mpl_toolkits/mplot3d/axes3d.py:1570\u001b[0m, in \u001b[0;36mAxes3D.plot_surface\u001b[0;34m(self, X, Y, Z, norm, vmin, vmax, lightsource, **kwargs)\u001b[0m\n\u001b[1;32m   1567\u001b[0m had_data \u001b[38;5;241m=\u001b[39m \u001b[38;5;28mself\u001b[39m\u001b[38;5;241m.\u001b[39mhas_data()\n\u001b[1;32m   1569\u001b[0m \u001b[38;5;28;01mif\u001b[39;00m Z\u001b[38;5;241m.\u001b[39mndim \u001b[38;5;241m!=\u001b[39m \u001b[38;5;241m2\u001b[39m:\n\u001b[0;32m-> 1570\u001b[0m     \u001b[38;5;28;01mraise\u001b[39;00m \u001b[38;5;167;01mValueError\u001b[39;00m(\u001b[38;5;124m\"\u001b[39m\u001b[38;5;124mArgument Z must be 2-dimensional.\u001b[39m\u001b[38;5;124m\"\u001b[39m)\n\u001b[1;32m   1572\u001b[0m Z \u001b[38;5;241m=\u001b[39m cbook\u001b[38;5;241m.\u001b[39m_to_unmasked_float_array(Z)\n\u001b[1;32m   1573\u001b[0m X, Y, Z \u001b[38;5;241m=\u001b[39m np\u001b[38;5;241m.\u001b[39mbroadcast_arrays(X, Y, Z)\n",
      "\u001b[0;31mValueError\u001b[0m: Argument Z must be 2-dimensional."
     ]
    },
    {
     "data": {
      "image/png": "[encoded data removed]",
      "text/plain": [
       "<Figure size 600x700 with 1 Axes>"
      ]
     },
     "metadata": {},
     "output_type": "display_data"
    }
   ],
   "source": [
    "cmap = plt.get_cmap('coolwarm')\n",
    "info_den = [info_x]\n",
    "\n",
    "fig = plt.figure(figsize=(6, 7))\n",
    "for i, den in enumerate(info_den):\n",
    "    norm = colors.Normalize(vmin=den.min(), vmax=den.max())\n",
    "    \n",
    "    # Project magnitude onto x, y, and z components, for plotting purpose\n",
    "    xx = den * np.sin(tt) * np.cos(pp)\n",
    "    yy = den * np.sin(tt) * np.sin(pp)\n",
    "    zz = den * np.cos(tt)\n",
    "    \n",
    "    ax = fig.add_subplot(1, 1, i+1, projection='3d')\n",
    "    plot = ax.plot_surface(\n",
    "        xx, yy, zz, facecolors=cmap(norm(den)),\n",
    "        linewidth=0, antialiased=False, alpha=0.8)\n",
    "\n",
    "    ax.get_xaxis().set_ticklabels([])\n",
    "    ax.get_yaxis().set_ticklabels([])\n",
    "    ax.get_zaxis().set_ticklabels([])\n",
    "    ax.set_xlabel(r'$x$', fontsize=14)\n",
    "    ax.set_ylabel(r'$y$', fontsize=14)\n",
    "    ax.set_zlabel(r'$z$', fontsize=14)\n",
    "plt.show()"
   ]
  },
  {
   "cell_type": "code",
   "execution_count": null,
   "id": "72236d5f",
   "metadata": {},
   "outputs": [],
   "source": []
  },
  {
   "cell_type": "code",
   "execution_count": null,
   "id": "7a2ec46e",
   "metadata": {},
   "outputs": [],
   "source": []
  }
 ],
 "metadata": {
  "kernelspec": {
   "display_name": "microsphere",
   "language": "python",
   "name": "microsphere"
  },
  "language_info": {
   "codemirror_mode": {
    "name": "ipython",
    "version": 3
   },
   "file_extension": ".py",
   "mimetype": "text/x-python",
   "name": "python",
   "nbconvert_exporter": "python",
   "pygments_lexer": "ipython3",
   "version": "3.11.3"
  }
 },
 "nbformat": 4,
 "nbformat_minor": 5
}
