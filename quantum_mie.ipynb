{
 "cells": [
  {
   "cell_type": "code",
   "execution_count": 4,
   "id": "70f6bde3",
   "metadata": {},
   "outputs": [],
   "source": [
    "%matplotlib inline\n",
    "import numpy as np\n",
    "from scipy.special import sph_harm\n",
    "\n",
    "import matplotlib.pyplot as plt"
   ]
  },
  {
   "cell_type": "markdown",
   "id": "d4fa84b3",
   "metadata": {},
   "source": [
    "## Functions"
   ]
  },
  {
   "cell_type": "code",
   "execution_count": 16,
   "id": "84e0c046",
   "metadata": {},
   "outputs": [],
   "source": [
    "def x_lm(l, m, theta, phi):\n",
    "    \"\"\"Vector spherical harmonics as defined in Hill (1954).\"\"\"\n",
    "    # m, l are integers and abs(m) <= l\n",
    "    if ( int(m) != m ) or ( int(l) != l ):\n",
    "        return np.nan, np.nan\n",
    "    elif np.abs(m) > l:\n",
    "        return np.nan, np.nan\n",
    "    \n",
    "    # Be careful that scipy defines polar and azimuthal\n",
    "    # angles in an opposite convention\n",
    "    # Also (-1)^m typically in Y_lm is in the associated Legendre function\n",
    "    theta_comp = -1 * m * sph_harm(m, l, phi, theta) / ( np.sqrt(l * (l+1)) * np.sin(theta) )\n",
    "    \n",
    "    # Derivative of Y_ml w.r.t theta\n",
    "    # https://functions.wolfram.com/Polynomials/SphericalHarmonicY/20/ShowAll.html\n",
    "    if (m == l):\n",
    "        dydtheta = m * 1/(np.tan(theta)) * sph_harm(m, l, phi, theta)\n",
    "    else:\n",
    "        dydtheta = m * 1/(np.tan(theta)) * sph_harm(m, l, phi, theta) + \\\n",
    "                   np.sqrt((l-m) * (l+m+1)) * np.exp(-1j*phi) * sph_harm(m+1, l, theta, phi)\n",
    "    phi_comp = ( -1j / np.sqrt(l*(l+1)) ) * dydtheta\n",
    "    \n",
    "    # X_ml has no r-component\n",
    "    return np.asarray([theta_comp, phi_comp])"
   ]
  },
  {
   "cell_type": "code",
   "execution_count": 18,
   "id": "7c203da9",
   "metadata": {},
   "outputs": [],
   "source": [
    "# Unit vectors in spherical coords\n",
    "def e_phi(theta, phi):\n",
    "    pass\n",
    "\n",
    "def e_theta(theta, phi):\n",
    "    pass\n",
    "\n",
    "# Polarization vectors\n",
    "def e1(theta, phi):\n",
    "    return 1j * e_phi(theta, phi)\n",
    "\n",
    "def e2(theta, phi):\n",
    "    return e_theta(theta, phi)\n",
    "\n",
    "# Vectors used for `C_p_lm` below\n",
    "def u_p(p, theta, phi):\n",
    "    if p == 'TE':\n",
    "        return e_theta(theta, phi) + 1j * e_phi(theta, phi)\n",
    "    elif p == 'TM':\n",
    "        return e_phi(theta, phi) - 1j * e_theta(theta, phi)"
   ]
  },
  {
   "cell_type": "code",
   "execution_count": 23,
   "id": "8f96482e",
   "metadata": {},
   "outputs": [],
   "source": [
    "def cbar_p_lmg(l, m, g, p, theta, phi):\n",
    "    \"\"\"Eq. (A2), (A3)\"\"\"\n",
    "    if p == 'TE':\n",
    "        pass\n",
    "    elif p == 'TM':\n",
    "        pass"
   ]
  },
  {
   "cell_type": "code",
   "execution_count": 17,
   "id": "cdb256a5",
   "metadata": {},
   "outputs": [],
   "source": [
    "def z_lm(l, m, na, f, w):\n",
    "    \"\"\"Z_lm function related to Gaussian beam defined in Eq. (B10)\n",
    "    \n",
    "    Params\n",
    "      l, m: integer indices\n",
    "      na  : trapping NA \n",
    "      f   : focal length\n",
    "      w   : waist\n",
    "    \"\"\"\n",
    "    if ( int(m) != m ) or ( int(l) != l ):\n",
    "        return np.nan, np.nan\n",
    "    elif np.abs(m) > l:\n",
    "        return np.nan, np.nan\n",
    "    \n",
    "    theta_max = np.arcsin(na)\n",
    "    \n",
    "    tt = np.linspace(0, theta_max, 200)\n",
    "    int_factor = np.sin(tt) * np.sqrt(np.abs(np.cos(tt))) * np.exp(-1*f*f*np.sin(tt)*np.sin(tt) / (w*w))\n",
    "    x_theta, x_phi = x_ml(m, l, tt, 0)\n",
    "    \n",
    "    # Integrate over theta\n",
    "    theta_comp = np.trapz(x_theta*int_factor, tt)\n",
    "    phi_comp   = np.trapz(x_phi  *int_factor, tt)\n",
    "    \n",
    "    return np.asarray([theta_comp, phi_comp])"
   ]
  },
  {
   "cell_type": "code",
   "execution_count": 20,
   "id": "e323c2f9",
   "metadata": {},
   "outputs": [],
   "source": [
    "def C_p_lm(l, m, p, na, f, w):\n",
    "    \"\"\"C_p_lm function defined in Eq. (B9)\"\"\"\n",
    "    if p == 'TE':\n",
    "        pass\n",
    "    elif p == 'TM':\n",
    "        pass"
   ]
  },
  {
   "cell_type": "code",
   "execution_count": 22,
   "id": "24d0f74e",
   "metadata": {},
   "outputs": [],
   "source": [
    "def Ax_p_lmg():\n",
    "    \"\"\"Eq. (A20)\"\"\"\n",
    "    pass\n",
    "\n",
    "def Ay_p_lmg():\n",
    "    \"\"\"Eq. (A21)\"\"\"\n",
    "    pass\n",
    "\n",
    "def Az_p_lmg():\n",
    "    \"\"\"Eq. (A22)\"\"\"\n",
    "    pass"
   ]
  },
  {
   "cell_type": "code",
   "execution_count": 21,
   "id": "b48ad9fd",
   "metadata": {},
   "outputs": [],
   "source": [
    "def R_p_l():\n",
    "    if p == 'TE':\n",
    "        pass\n",
    "    elif p == 'TM':\n",
    "        pass\n",
    "\n",
    "def S_p_l():\n",
    "    if p == 'TE':\n",
    "        pass\n",
    "    elif p == 'TM':\n",
    "        pass\n",
    "    \n",
    "def psi_p_l():\n",
    "    if p == 'TE':\n",
    "        pass\n",
    "    elif p == 'TM':\n",
    "        pass"
   ]
  },
  {
   "cell_type": "code",
   "execution_count": null,
   "id": "df640c2a",
   "metadata": {},
   "outputs": [],
   "source": []
  },
  {
   "cell_type": "markdown",
   "id": "9dd7a49b",
   "metadata": {},
   "source": [
    "## Focused Gaussian beam"
   ]
  },
  {
   "cell_type": "code",
   "execution_count": null,
   "id": "31266168",
   "metadata": {},
   "outputs": [],
   "source": []
  }
 ],
 "metadata": {
  "kernelspec": {
   "display_name": "microsphere",
   "language": "python",
   "name": "microsphere"
  },
  "language_info": {
   "codemirror_mode": {
    "name": "ipython",
    "version": 3
   },
   "file_extension": ".py",
   "mimetype": "text/x-python",
   "name": "python",
   "nbconvert_exporter": "python",
   "pygments_lexer": "ipython3",
   "version": "3.11.3"
  }
 },
 "nbformat": 4,
 "nbformat_minor": 5
}
